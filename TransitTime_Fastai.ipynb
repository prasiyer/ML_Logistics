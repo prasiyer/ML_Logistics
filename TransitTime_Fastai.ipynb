{
 "cells": [
  {
   "cell_type": "code",
   "execution_count": 13,
   "metadata": {},
   "outputs": [],
   "source": [
    "### ENV: pipy135\n",
    "import pandas as pd\n",
    "import fastai as fastai\n",
    "import numpy as np\n",
    "from fastai import tabular\n",
    "from fastai.imports import *\n",
    "from fastai import *\n",
    "from fastai.tabular import *\n",
    "from fastai.tabular.transform import Categorify, FillMissing, Normalize, add_datepart\n",
    "from fastai.tabular.data import TabularDataBunch, TabularList\n",
    "from sklearn import metrics\n",
    "import sklearn as sk\n",
    "from fastai.metrics import accuracy, rmse\n",
    "from fastai.tabular.learner import tabular_learner"
   ]
  },
  {
   "cell_type": "code",
   "execution_count": 14,
   "metadata": {},
   "outputs": [],
   "source": [
    "### INPUTS TO FASTAI FOR DEALING WITH MISSING VALUES, CATEGORICAL AND NUMERIC FEATURES\n",
    "procs = [FillMissing,Categorify,Normalize]\n",
    "procs1 = [FillMissing,Categorify]"
   ]
  },
  {
   "cell_type": "code",
   "execution_count": 15,
   "metadata": {},
   "outputs": [],
   "source": [
    "### IMPORT THE FILE WITH DATASET\n",
    "inpDf = pd.read_csv('/data2/home/prasannaiyer/Projects/TT_Fastai/Dataset/OTD_2019_PU.csv')\n",
    "inpDf = inpDf[(inpDf['Days Late']<20)&((inpDf['Location Type']=='Plant')\\\n",
    "    |(inpDf['Location Type']=='Port')|(inpDf['Location Type']=='Keen'))]"
   ]
  },
  {
   "cell_type": "code",
   "execution_count": 16,
   "metadata": {},
   "outputs": [],
   "source": [
    "### RENAME COLUMNS AS WELL AS SET DATATYPE OF DATE FEATURES  ###\n",
    "inpDf['Delivery_Date'] = pd.to_datetime(inpDf['Shipment End Date'])\n",
    "inpDf['Pickup_Date'] = pd.to_datetime(inpDf['First shipped date (first YT26 action) Date'])\n",
    "inpDf.rename(columns = {'Shipment Secure Resources Upd Dt':'Tender_Date'},inplace = True)\n",
    "inpDf['Tender_Date'] = pd.to_datetime(inpDf['Tender_Date'])"
   ]
  },
  {
   "cell_type": "code",
   "execution_count": 17,
   "metadata": {},
   "outputs": [],
   "source": [
    "### CREATE NEW FEATURES\n",
    "### OutputTransitTime IS THE DEPENDENT VARIABLE\n",
    "### OD IS A FEATURE FOR OVER-DIMENTIONSAL SHIPMENTS\n",
    "inpDf['OutputTransitTime'] = (inpDf['Delivery_Date']-inpDf['Pickup_Date']).dt.days\n",
    "inpDf['OD'] = [1 if OD > 0 else 0 for OD in inpDf['Shipment OD Day']]"
   ]
  },
  {
   "cell_type": "code",
   "execution_count": 18,
   "metadata": {},
   "outputs": [],
   "source": [
    "### REMOVE OUTLIERS BASED ON CRITERIA FROM EDA ###\n",
    "inpDf = inpDf[(inpDf['OutputTransitTime'] <16) & (inpDf['OutputTransitTime'] > 0)]\n",
    "inpDf = inpDf[(inpDf['Shipment Loaded Distance']>200) & (inpDf['Shipment Loaded Distance']<2501)]\n",
    "### DROP NULL VALUES ###\n",
    "inpDf.dropna(subset=['OutputTransitTime'],inplace=True)\n",
    "#inpDf['OutputTransitTime'] = inpDf['OutputTransitTime'].astype('int32')"
   ]
  },
  {
   "cell_type": "code",
   "execution_count": 19,
   "metadata": {},
   "outputs": [],
   "source": [
    "### DROP COLUMNS NOT NEEDED FOR PREDICTION ###\n",
    "inpDf.drop(['Shipment GID', 'Delivery Status','Shipment Source Location GID',\\\n",
    "    'Shipment Source Province Code','Shipment Destination Location GID',\\\n",
    "        'Shipment Destination Location Name', 'Shipment Destination City',\\\n",
    "            'Shipment Enroute Status Upd Dt','Vehicle Outbound Delivery tendered and accepted Date',\\\n",
    "                'First shipped date (first YT26 action) Date', 'Shipment End Date',\\\n",
    "                    'Expected Days to Deliver', 'Actual Days', 'Days Late','Year',\\\n",
    "                        'Month','Shipment OD Day','Pickup_Date','Delivery_Date'],\\\n",
    "                            inplace = True,axis=1)"
   ]
  },
  {
   "cell_type": "code",
   "execution_count": 20,
   "metadata": {},
   "outputs": [],
   "source": [
    "### CREATION OF NEW FEATURES FROM EXISTING DATE FEATURES ###\n",
    "inpDf = add_datepart(inpDf,'Tender_Date',drop=False)"
   ]
  },
  {
   "cell_type": "code",
   "execution_count": 21,
   "metadata": {},
   "outputs": [],
   "source": [
    "### SORT THE DATAFRAME ###\n",
    "### Next step is to split the data into training and testing dataset. \n",
    "### Since this data involves dates, dataset is sorted by the specific date feature. \n",
    "### This ensures that older data is used for training and later data is used in testing. \n",
    "### This is important as the model will be used to predict future values of the dependent variable\n",
    "inpDf = inpDf.sort_values(by=['Tender_Date'])\n",
    "inpDf = inpDf.drop(['Tender_Date'],axis=1)"
   ]
  },
  {
   "cell_type": "code",
   "execution_count": 22,
   "metadata": {},
   "outputs": [],
   "source": [
    "### CATEGORICAL COLUMNS ###\n",
    "cat_columns = []\n",
    "for c in inpDf.columns:\n",
    "  if inpDf[c].dtype in ['object']:\n",
    "    cat_columns.append(c) "
   ]
  },
  {
   "cell_type": "code",
   "execution_count": 23,
   "metadata": {},
   "outputs": [],
   "source": [
    "### CONTINUOUS OR NUMERICAL COLUMNS ###\n",
    "cont_columns = []\n",
    "for c in inpDf.columns:\n",
    "  if inpDf[c].dtype not in ['object']:\n",
    "    cont_columns.append(c) "
   ]
  },
  {
   "cell_type": "code",
   "execution_count": 24,
   "metadata": {},
   "outputs": [],
   "source": [
    "### CREATE EMBEDDINGS ###\n",
    "emb_sizes={}\n",
    "for c in cat_columns:\n",
    "    if inpDf[c].dtypes == 'O':\n",
    "        cat_count = int(inpDf[c].nunique()/2)\n",
    "        if cat_count>1:\n",
    "            emb_sizes.update({c:cat_count})"
   ]
  },
  {
   "cell_type": "code",
   "execution_count": 25,
   "metadata": {},
   "outputs": [],
   "source": [
    "### BOOLEAN COLUMNS ###\n",
    "for bcol in cont_columns:\n",
    "    #print(bcol,'--',inpDf[bcol].dtypes)\n",
    "    if inpDf[bcol].dtypes == 'bool':\n",
    "        inpDf[bcol] = inpDf[bcol].astype('int32')"
   ]
  },
  {
   "cell_type": "code",
   "execution_count": 26,
   "metadata": {},
   "outputs": [],
   "source": [
    "### TRAIN/TEST DATA SPLIT ###\n",
    "data_count = inpDf.shape[0]\n",
    "data_train_count = int(data_count*0.8)\n",
    "data_val_count = data_count - data_train_count\n",
    "train_data = inpDf[:data_train_count]\n",
    "test_data = inpDf[data_train_count:]\n",
    "val_idx = range(data_train_count,data_count-1)\n",
    "val_idx1 = range(data_train_count,data_count)"
   ]
  },
  {
   "cell_type": "code",
   "execution_count": 27,
   "metadata": {},
   "outputs": [
    {
     "data": {
      "text/html": [
       "<table border=\"1\" class=\"dataframe\">\n",
       "  <thead>\n",
       "    <tr style=\"text-align: left;\">\n",
       "      <th>epoch</th>\n",
       "      <th>train_loss</th>\n",
       "      <th>valid_loss</th>\n",
       "      <th>root_mean_squared_error</th>\n",
       "      <th>time</th>\n",
       "    </tr>\n",
       "  </thead>\n",
       "  <tbody>\n",
       "    <tr>\n",
       "      <td>0</td>\n",
       "      <td>13.380310</td>\n",
       "      <td>15.756706</td>\n",
       "      <td>3.281795</td>\n",
       "      <td>00:06</td>\n",
       "    </tr>\n",
       "    <tr>\n",
       "      <td>1</td>\n",
       "      <td>7.188285</td>\n",
       "      <td>6.622568</td>\n",
       "      <td>2.459757</td>\n",
       "      <td>00:06</td>\n",
       "    </tr>\n",
       "    <tr>\n",
       "      <td>2</td>\n",
       "      <td>6.880220</td>\n",
       "      <td>5.703304</td>\n",
       "      <td>2.265379</td>\n",
       "      <td>00:06</td>\n",
       "    </tr>\n",
       "    <tr>\n",
       "      <td>3</td>\n",
       "      <td>6.574411</td>\n",
       "      <td>5.318990</td>\n",
       "      <td>2.218133</td>\n",
       "      <td>00:06</td>\n",
       "    </tr>\n",
       "    <tr>\n",
       "      <td>4</td>\n",
       "      <td>6.291667</td>\n",
       "      <td>5.077841</td>\n",
       "      <td>2.180535</td>\n",
       "      <td>00:06</td>\n",
       "    </tr>\n",
       "    <tr>\n",
       "      <td>5</td>\n",
       "      <td>5.952751</td>\n",
       "      <td>4.785054</td>\n",
       "      <td>2.125625</td>\n",
       "      <td>00:06</td>\n",
       "    </tr>\n",
       "    <tr>\n",
       "      <td>6</td>\n",
       "      <td>5.374725</td>\n",
       "      <td>5.842860</td>\n",
       "      <td>2.318283</td>\n",
       "      <td>00:06</td>\n",
       "    </tr>\n",
       "    <tr>\n",
       "      <td>7</td>\n",
       "      <td>4.833013</td>\n",
       "      <td>5.010554</td>\n",
       "      <td>2.153146</td>\n",
       "      <td>00:06</td>\n",
       "    </tr>\n",
       "    <tr>\n",
       "      <td>8</td>\n",
       "      <td>4.451330</td>\n",
       "      <td>5.014889</td>\n",
       "      <td>2.148119</td>\n",
       "      <td>00:06</td>\n",
       "    </tr>\n",
       "    <tr>\n",
       "      <td>9</td>\n",
       "      <td>4.264637</td>\n",
       "      <td>4.918071</td>\n",
       "      <td>2.141319</td>\n",
       "      <td>00:06</td>\n",
       "    </tr>\n",
       "  </tbody>\n",
       "</table>"
      ],
      "text/plain": [
       "<IPython.core.display.HTML object>"
      ]
     },
     "metadata": {},
     "output_type": "display_data"
    },
    {
     "data": {
      "text/html": [],
      "text/plain": [
       "<IPython.core.display.HTML object>"
      ]
     },
     "metadata": {},
     "output_type": "display_data"
    }
   ],
   "source": [
    "### Training & prediction\n",
    "dep_var = 'OutputTransitTime'\n",
    "cont_columns.remove(dep_var)\n",
    "path = ''\n",
    "tab_databunch1 = TabularDataBunch.from_df(path,inpDf,dep_var,valid_idx=val_idx1,\\\n",
    "    cat_names=cat_columns,procs = procs1,cont_names=cont_columns) \n",
    "\n",
    "learner1 = tabular_learner(tab_databunch1,layers=[1000,500],\\\n",
    "     emb_szs=emb_sizes,metrics=rmse)\n",
    "\n",
    "### Train 20 epochs\n",
    "learner1.fit_one_cycle(10, 1e-2)\n",
    "\n",
    "### Prediction details\n",
    "pred1,y1,loss1 = learner1.get_preds(with_loss=True)\n",
    "x = rmse(pred1,y1)"
   ]
  }
 ],
 "metadata": {
  "interpreter": {
   "hash": "5416aadab73ce924726a1eb24fd374c8e7a47219aa155be681024fb1353bbb6c"
  },
  "kernelspec": {
   "display_name": "Python 3.7.5 ('pipy135')",
   "language": "python",
   "name": "python3"
  },
  "language_info": {
   "codemirror_mode": {
    "name": "ipython",
    "version": 3
   },
   "file_extension": ".py",
   "mimetype": "text/x-python",
   "name": "python",
   "nbconvert_exporter": "python",
   "pygments_lexer": "ipython3",
   "version": "3.7.5"
  },
  "orig_nbformat": 4
 },
 "nbformat": 4,
 "nbformat_minor": 2
}
